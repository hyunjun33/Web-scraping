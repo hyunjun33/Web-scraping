{
 "cells": [
  {
   "cell_type": "code",
   "execution_count": 1,
   "id": "a225ec0c",
   "metadata": {},
   "outputs": [],
   "source": [
    "import feedparser"
   ]
  },
  {
   "cell_type": "code",
   "execution_count": 2,
   "id": "9b390ffa",
   "metadata": {},
   "outputs": [],
   "source": [
    "d = feedparser.parse(\"http://www.aladin.co.kr/rss/special_new/351\")"
   ]
  },
  {
   "cell_type": "code",
   "execution_count": 4,
   "id": "6bd52218",
   "metadata": {},
   "outputs": [
    {
     "data": {
      "text/plain": [
       "'rss20'"
      ]
     },
     "execution_count": 4,
     "metadata": {},
     "output_type": "execute_result"
    }
   ],
   "source": [
    "d.version"
   ]
  },
  {
   "cell_type": "code",
   "execution_count": 5,
   "id": "da8c8854",
   "metadata": {},
   "outputs": [
    {
     "data": {
      "text/plain": [
       "feedparser.util.FeedParserDict"
      ]
     },
     "execution_count": 5,
     "metadata": {},
     "output_type": "execute_result"
    }
   ],
   "source": [
    "type(d)"
   ]
  },
  {
   "cell_type": "code",
   "execution_count": 6,
   "id": "f1b3f73b",
   "metadata": {},
   "outputs": [
    {
     "data": {
      "text/plain": [
       "'분야별 신간 특선 - 컴퓨터/모바일'"
      ]
     },
     "execution_count": 6,
     "metadata": {},
     "output_type": "execute_result"
    }
   ],
   "source": [
    "d.feed.title"
   ]
  },
  {
   "cell_type": "code",
   "execution_count": 7,
   "id": "e30bd146",
   "metadata": {},
   "outputs": [
    {
     "data": {
      "text/plain": [
       "'분야별 신간 특선 - 컴퓨터/모바일'"
      ]
     },
     "execution_count": 7,
     "metadata": {},
     "output_type": "execute_result"
    }
   ],
   "source": [
    "d[\"feed\"][\"title\"]"
   ]
  },
  {
   "cell_type": "code",
   "execution_count": 8,
   "id": "3062c62f",
   "metadata": {},
   "outputs": [
    {
     "data": {
      "text/plain": [
       "'http://www.aladin.co.kr/rsscenter/go.aspx/www.aladin.co.kr/shop/book/wspecialnew.aspx?cid=351&rssType=1&type=title'"
      ]
     },
     "execution_count": 8,
     "metadata": {},
     "output_type": "execute_result"
    }
   ],
   "source": [
    "d.feed.link"
   ]
  },
  {
   "cell_type": "code",
   "execution_count": 9,
   "id": "a8446e35",
   "metadata": {},
   "outputs": [
    {
     "data": {
      "text/plain": [
       "'분야별 신간 특선'"
      ]
     },
     "execution_count": 9,
     "metadata": {},
     "output_type": "execute_result"
    }
   ],
   "source": [
    "d.feed.description"
   ]
  },
  {
   "cell_type": "code",
   "execution_count": 11,
   "id": "4b88b5f1",
   "metadata": {},
   "outputs": [
    {
     "data": {
      "text/plain": [
       "25"
      ]
     },
     "execution_count": 11,
     "metadata": {},
     "output_type": "execute_result"
    }
   ],
   "source": [
    "len(d.entries)"
   ]
  },
  {
   "cell_type": "code",
   "execution_count": 13,
   "id": "e5eeeec6",
   "metadata": {},
   "outputs": [
    {
     "data": {
      "text/plain": [
       "'딥러닝을 이용한 정형 데이터 분석/마크 라이언 지음, 박찬성 옮김/책만'"
      ]
     },
     "execution_count": 13,
     "metadata": {},
     "output_type": "execute_result"
    }
   ],
   "source": [
    "d.entries[0].title"
   ]
  },
  {
   "cell_type": "code",
   "execution_count": 14,
   "id": "76409217",
   "metadata": {},
   "outputs": [
    {
     "data": {
      "text/plain": [
       "'http://www.aladin.co.kr/rsscenter/go.aspx?rssType=1&type=item&itemId=296396864'"
      ]
     },
     "execution_count": 14,
     "metadata": {},
     "output_type": "execute_result"
    }
   ],
   "source": [
    "d.entries[0].link"
   ]
  },
  {
   "cell_type": "code",
   "execution_count": 15,
   "id": "6d9e0b41",
   "metadata": {},
   "outputs": [
    {
     "data": {
      "text/plain": [
       "'<br /><table border=\"0\" cellpadding=\"0\" cellspacing=\"0\"><tr><td align=\"left\" valign=\"top\"><table bgcolor=\"#dddddd\" border=\"0\" cellpadding=\"5\" cellspacing=\"1\" style=\"margin-right: 10px;\"><tbody><tr><td bgcolor=\"#ffffff\"><a href=\"http://www.aladin.co.kr/rsscenter/go.aspx?rssType=1&amp;type=item&amp;itemId=296396864\"><img border=\"0\" src=\"https://image.aladin.co.kr/product/29639/68/cover/k832838477_1.jpg\" /></a></td></tr></tbody></table><h2><a href=\"http://www.aladin.co.kr/rsscenter/go.aspx?rssType=1&amp;type=item&amp;itemId=296396864\">딥러닝을 이용한 정형 데이터 분석</a></h2>마크 라이언 지음, 박찬성 옮김 / 책만 / 2022년 06월 / ISBN:<span class=\"isbn13\">9791189909420</span><br />정가: <span style=\"color: #FF0202;\">28,000</span>원 / 판매가: <span style=\"color: #FF0202;\">25,200</span>원 / 마일리지: <span style=\"color: #FF0202;\">1,400</span>원<br /><span style=\"color: #FF0202;\">이벤트</span>: 컴퓨터/모바일_본투리드 선풍기, 복조리 파우치<br /><table border=\"0\" cellpadding=\"3\" cellspacing=\"0\" height=\"20\"><tr><td align=\"left\" width=\"113\"><a href=\"http://www.aladin.co.kr/rsscenter/go.aspx?type=basket&amp;itemId=296396864&amp;rssType=1\" target=\"_blank\"><img alt=\"장바구니담기\" border=\"0\" src=\"http://www.aladin.co.kr/img/rss/bu_basket.gif\" /></a></td><td align=\"left\" width=\"101\"><a href=\"http://www.aladin.co.kr/rsscenter/go.aspx?type=safebasket&amp;itemId=296396864&amp;rssType=1\" target=\"_blank\"><img alt=\"보관함담기\" border=\"0\" src=\"http://www.aladin.co.kr/img/rss/bu_safebasket.gif\" /></a></td><td align=\"left\" width=\"83\"></td><td align=\"left\" width=\"113\"></td></tr></table></td></tr><tr><td align=\"left\" valign=\"top\"><img border=\"0\" src=\"http://www.aladin.co.kr/img/book/intro_t.gif\" /><br />기업과 공공기관 등 현실에서 맞닥뜨리는 숫자와 표 형식의 정형 데이터셋, 이제는 딥러닝으로 분석하고 풀어내보자. 실세계 정형 데이터셋을 정리하고 케라스 프레임워크로 딥러닝 모델을 훈련시켜, 웹 페이지와 페이스북 메신저용 챗봇으로 배포해본다. 테이블 데이터의 전처리와 가공부터 딥러닝 모델의 훈련, 구축, 배포까지, 케라스, 판다스, 사이킷런, 텐서플로2.0, 주피터 노트북을 활용한 엔드투엔드 프로젝트를 다룬다.<br /><br /><img border=\"0\" src=\"http://www.aladin.co.kr/img/book/content_t.gif\" /><br /><p>1장 정형 데이터를 딥러닝으로 다뤄야 하는 이유<br />\\n__1.1\\u2002딥러닝 개요<br />\\n__1.2\\u2002딥러닝의 장단점<br />\\n__1.3\\u2002딥러닝 소프트웨어 스택<br />\\n__1.4\\u2002정형 데이터와 비정형 데이터<br />\\n__1.5\\u2002정형 데이터에 딥러닝을 사용하는 것에 대한 부정적 시각<br />\\n__1.6\\u2002정형 데이터 문제로 딥러닝을 살펴보는 이유<br />\\n__1.7\\u2002이 책에서 제공하는 코드 소개<br />\\n__1.8\\u2002알아둘 내용<br />\\n__1.9\\u2002정리<br />\\n<br />\\n2장 판다스 데이터프레임과 책 전반에서 사용할 예제 소개<br />\\n__2.1\\u2002다양한 종류의 딥러닝 개발 환경<br />\\n__2.2\\u2002판다스를 살펴보기 위한 코드<br />\\n__2.3\\u2002파이썬의 판다스 데이터프레임<br />\\n__2.4\\u2002CSV 파일을 판다스 데이터프레임으로 만들기<br />\\n__2.5\\u2002판다스를 사용한 SQL 등의 작업 수행<br />\\n__2.6\\u2002주요 예제: 경전철의 지연 예측<br />\\n__2.7\\u2002딥러닝을 배우는 데 현실의 데이터셋을 사용해야 하는 이유<br />\\n__2.8\\u2002입력 데이터셋의 형식과 범위<br />\\n__2.9\\u2002최종 목표: 엔드투엔드 솔루션<br />\\n__2.10\\u2002솔루션 코드에 대한 상세한 설명<br />\\n__2.11\\u2002개발 환경: 일반적인 환경과 딥러닝이 가능한 환경<br />\\n__2.12\\u2002딥러닝을 배척하는 의견들<br />\\n__2.13\\u2002딥러닝의 접근성이 좋아진 까닭<br />\\n__2.14\\u2002딥러닝 모델 훈련 과정 맛보기<br />\\n__2.15\\u2002정리<br />\\n<br />\\n3장 데이터 준비 (1) 데이터의 탐색과 정리<br />\\n__3.1\\u2002데이터 탐색 및 정리를 위한 코드<br />\\n__3.2\\u2002파이썬에서 설정 파일을 사용하는 방법<br />\\n__3.3\\u2002XLS 파일을 판다스 데이터프레임으로 변환하기<br />\\n__3.4\\u2002판다스 데이터프레임을 피클링된 파일로 저장하여 세션 간 공유하기<br />\\n__3.5\\u2002데이터 탐색<br />\\n__3.6\\u2002데이터를 연속형, 범주형, 텍스트로 분류하기<br />\\n__3.7\\u2002데이터셋에 내재된 문제 정돈: 누락된 데이터, 오류, 추측성 문제<br />\\n__3.8\\u2002딥러닝에 필요한 데이터 규모의 산정<br />\\n__3.9\\u2002정리<br />\\n<br />\\n4장 데이터 준비 (2) 데이터 변형<br />\\n4.1\\u2002데이터 준비와 변형을 위한 코드<br />\\n__4.2\\u2002바르지 못한 값 다루기: Route<br />\\n__4.3\\u2002유효하지 않은 값에 대해 하나의 대쳇값만 사용하는 이유<br />\\n__4.4\\u2002올바르지 않은 값 다루기: Vehicle<br />\\n__4.5\\u2002일관성 없는 값 다루기: Location<br />\\n__4.6\\u2002공간 데이터 다루기: Location<br />\\n__4.7\\u2002자료형 불일치 문제 다루기<br />\\n__4.8\\u2002여전히 잘못된 데이터를 가진 ...<br /><br /><img border=\"0\" src=\"http://www.aladin.co.kr/img/book/subject_t.gif\" /><br /><a class=\"ml\" href=\"http://www.aladin.co.kr/home/wbookmain.aspx\">국내도서</a>&nbsp;>&nbsp;<a class=\"ml\" href=\"http://www.aladin.co.kr/shop/wbrowse.aspx?CID=351\">컴퓨터/모바일</a>&nbsp;>&nbsp;<a class=\"ml\" href=\"http://www.aladin.co.kr/shop/wbrowse.aspx?CID=2719\">컴퓨터 공학</a>&nbsp;>&nbsp;<a class=\"ml\" href=\"http://www.aladin.co.kr/shop/wbrowse.aspx?CID=2732&amp;BrowseTarget=List\"><b>자료구조/알고리즘</b></a><br /><a class=\"ml\" href=\"http://www.aladin.co.kr/home/wbookmain.aspx\">국내도서</a>&nbsp;>&nbsp;<a class=\"ml\" href=\"http://www.aladin.co.kr/shop/wbrowse.aspx?CID=351\">컴퓨터/모바일</a>&nbsp;>&nbsp;<a class=\"ml\" href=\"http://www.aladin.co.kr/shop/wbrowse.aspx?CID=437\">프로그래밍 언어</a>&nbsp;>&nbsp;<a class=\"ml\" href=\"http://www.aladin.co.kr/shop/wbrowse.aspx?CID=6734&amp;BrowseTarget=List\"><b>파이썬</b></a><br /><a class=\"ml\" href=\"http://www.aladin.co.kr/home/wbookmain.aspx\">국내도서</a>&nbsp;>&nbsp;<a class=\"ml\" href=\"http://www.aladin.co.kr/shop/wbrowse.aspx?CID=351\">컴퓨터/모바일</a>&nbsp;>&nbsp;<a class=\"ml\" href=\"http://www.aladin.co.kr/shop/wbrowse.aspx?CID=2719\">컴퓨터 공학</a>&nbsp;>&nbsp;<a class=\"ml\" href=\"http://www.aladin.co.kr/shop/wbrowse.aspx?CID=6794&amp;BrowseTarget=List\"><b>데이터베이스 개론</b></a><br /><br /></td></tr></table>'"
      ]
     },
     "execution_count": 15,
     "metadata": {},
     "output_type": "execute_result"
    }
   ],
   "source": [
    "d.entries[0].description"
   ]
  },
  {
   "cell_type": "code",
   "execution_count": 16,
   "id": "f7dfaf4b",
   "metadata": {},
   "outputs": [
    {
     "data": {
      "text/plain": [
       "time.struct_time(tm_year=2022, tm_mon=6, tm_mday=13, tm_hour=4, tm_min=48, tm_sec=0, tm_wday=0, tm_yday=164, tm_isdst=0)"
      ]
     },
     "execution_count": 16,
     "metadata": {},
     "output_type": "execute_result"
    }
   ],
   "source": [
    "d.entries[0].updated_parsed"
   ]
  },
  {
   "cell_type": "code",
   "execution_count": 18,
   "id": "5dee1707",
   "metadata": {},
   "outputs": [
    {
     "name": "stdout",
     "output_type": "stream",
     "text": [
      "이름: 딥러닝을 이용한 정형 데이터 분석/마크 라이언 지음, 박찬성 옮김/책만\n",
      "링크 http://www.aladin.co.kr/rsscenter/go.aspx?rssType=1&type=item&itemId=296396864\n",
      "\n",
      "이름: 이토록 쉬운 NFT 개발 스타터팩/박정태 지음/루비페이퍼\n",
      "링크 http://www.aladin.co.kr/rsscenter/go.aspx?rssType=1&type=item&itemId=296261902\n",
      "\n",
      "이름: 공감의 디자인/존 콜코 지음, 심태은 옮김/유엑스리뷰\n",
      "링크 http://www.aladin.co.kr/rsscenter/go.aspx?rssType=1&type=item&itemId=296259756\n",
      "\n",
      "이름: 멀티스레드 기반 자바스크립트/토머스 헌터 2세.브라이언 잉글리시 지음, 나민주 옮김/루비페이퍼\n",
      "링크 http://www.aladin.co.kr/rsscenter/go.aspx?rssType=1&type=item&itemId=296258955\n",
      "\n",
      "이름: TCP/IP가 보이는 그림책/ANK Co., Ltd. 지음, 이영란 외 옮김/성안당\n",
      "링크 http://www.aladin.co.kr/rsscenter/go.aspx?rssType=1&type=item&itemId=296254701\n",
      "\n",
      "이름: A/B 테스트/론 코하비.다이앤 탕.야 쉬 지음, 이기홍.김기영 외 옮김/에이콘출판\n",
      "링크 http://www.aladin.co.kr/rsscenter/go.aspx?rssType=1&type=item&itemId=296254070\n",
      "\n",
      "이름: 누구나 따라할 수 있는 기막힌 중국 구매대행 끝장 매뉴얼/이윤섭.손승엽 지음/앤써북\n",
      "링크 http://www.aladin.co.kr/rsscenter/go.aspx?rssType=1&type=item&itemId=296253732\n",
      "\n",
      "이름: AI 상식사전/한규동 지음/길벗\n",
      "링크 http://www.aladin.co.kr/rsscenter/go.aspx?rssType=1&type=item&itemId=296246644\n",
      "\n",
      "이름: 2023 시나공 총정리 컴퓨터활용능력 1급 필기 (8절)/길벗R&D.강윤석 외 지음/길벗\n",
      "링크 http://www.aladin.co.kr/rsscenter/go.aspx?rssType=1&type=item&itemId=296126943\n",
      "\n",
      "이름: 2023 시나공 총정리 컴퓨터활용능력 2급 필기 (8절)/길벗 R&D 외 지음/길벗\n",
      "링크 http://www.aladin.co.kr/rsscenter/go.aspx?rssType=1&type=item&itemId=296124787\n",
      "\n",
      "이름: 2023 ADsP 한 권으로 끝내기 (이론 + 요약 문제)/김계철 지음/에이아이에듀\n",
      "링크 http://www.aladin.co.kr/rsscenter/go.aspx?rssType=1&type=item&itemId=296108715\n",
      "\n",
      "이름: SAP Fiori & OData Full Stack Guide/유균 지음/북랩\n",
      "링크 http://www.aladin.co.kr/rsscenter/go.aspx?rssType=1&type=item&itemId=296083618\n",
      "\n",
      "이름: 회사에서 바로 통하는 파워포인트 FOR STARTERS/이화진 지음/한빛미디어\n",
      "링크 http://www.aladin.co.kr/rsscenter/go.aspx?rssType=1&type=item&itemId=296062668\n",
      "\n",
      "이름: AWS 컨테이너 설계와 구축 철저 입문/아라이 마사야.우마카츠 아츠시 지음, 양현 옮김, 사사키 타쿠로 감수/위키북스\n",
      "링크 http://www.aladin.co.kr/rsscenter/go.aspx?rssType=1&type=item&itemId=296061083\n",
      "\n",
      "이름: 소프트웨어 공학 이론과 실제/홍장의 지음/한빛아카데미(교재)\n",
      "링크 http://www.aladin.co.kr/rsscenter/go.aspx?rssType=1&type=item&itemId=296060834\n",
      "\n",
      "이름: 나도 잘나가는 유튜브 크리에이터/노승유 외 지음/SNS소통연구소\n",
      "링크 http://www.aladin.co.kr/rsscenter/go.aspx?rssType=1&type=item&itemId=296046835\n",
      "\n",
      "이름: UX 디자이너로 일하고 있습니다/변민수 지음/천그루숲\n",
      "링크 http://www.aladin.co.kr/rsscenter/go.aspx?rssType=1&type=item&itemId=296045865\n",
      "\n",
      "이름: 우리 모두 메타버스 크리에이터/온은주.김현희 지음/영진.com(영진닷컴)\n",
      "링크 http://www.aladin.co.kr/rsscenter/go.aspx?rssType=1&type=item&itemId=296039904\n",
      "\n",
      "이름: 1인 미디어 영상 제작 유튜브 크리에이터 노하우/윤진숙 지음/SNS소통연구소\n",
      "링크 http://www.aladin.co.kr/rsscenter/go.aspx?rssType=1&type=item&itemId=295860705\n",
      "\n",
      "이름: 20년차 영상제작 고수가 몰래 보는 스마트폰 영상편집제작 바이블/이동윤(윤들쥔장) 지음/윤들닷컴\n",
      "링크 http://www.aladin.co.kr/rsscenter/go.aspx?rssType=1&type=item&itemId=295838244\n",
      "\n",
      "이름: OrCAD PCB설계 Ver 17.4/김종오.안태원.박현찬 지음/복두출판사\n",
      "링크 http://www.aladin.co.kr/rsscenter/go.aspx?rssType=1&type=item&itemId=295812652\n",
      "\n",
      "이름: 회사에서 바로 통하는 엑셀 FOR STARTERS/전미진 지음/한빛미디어\n",
      "링크 http://www.aladin.co.kr/rsscenter/go.aspx?rssType=1&type=item&itemId=295789390\n",
      "\n",
      "이름: 2023 시나공 퀵이지 정보처리기사 실기/길벗 R&D 외 지음/길벗\n",
      "링크 http://www.aladin.co.kr/rsscenter/go.aspx?rssType=1&type=item&itemId=295780037\n",
      "\n",
      "이름: 세상에 없던 금융, 디파이 : 심화편/코인게코 지음, 디파이크루 옮김/제이펍\n",
      "링크 http://www.aladin.co.kr/rsscenter/go.aspx?rssType=1&type=item&itemId=295772333\n",
      "\n",
      "이름: 쉽게 따라하는 NFT 마스터 가이드/티아나 로런스.김서영 지음, 정종화 옮김/한빛미디어\n",
      "링크 http://www.aladin.co.kr/rsscenter/go.aspx?rssType=1&type=item&itemId=295695992\n",
      "\n"
     ]
    }
   ],
   "source": [
    "for entry in d.entries:\n",
    "    print(\"이름:\", entry.title)\n",
    "    print(\"링크\", entry.link)\n",
    "    print()"
   ]
  },
  {
   "cell_type": "code",
   "execution_count": null,
   "id": "602bcabd",
   "metadata": {},
   "outputs": [],
   "source": []
  }
 ],
 "metadata": {
  "kernelspec": {
   "display_name": "Python 3 (ipykernel)",
   "language": "python",
   "name": "python3"
  },
  "language_info": {
   "codemirror_mode": {
    "name": "ipython",
    "version": 3
   },
   "file_extension": ".py",
   "mimetype": "text/x-python",
   "name": "python",
   "nbconvert_exporter": "python",
   "pygments_lexer": "ipython3",
   "version": "3.7.2"
  }
 },
 "nbformat": 4,
 "nbformat_minor": 5
}
