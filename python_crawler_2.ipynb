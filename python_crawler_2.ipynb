{
 "cells": [
  {
   "cell_type": "code",
   "execution_count": 1,
   "id": "224302e2",
   "metadata": {},
   "outputs": [],
   "source": [
    "import requests\n",
    "import lxml.html"
   ]
  },
  {
   "cell_type": "code",
   "execution_count": 2,
   "id": "97b1d06a",
   "metadata": {},
   "outputs": [],
   "source": [
    "def main():\n",
    "    \"\"\"\n",
    "    크롤러의 메인 처리\n",
    "    \"\"\"\n",
    "    # 여러 페이지에서 크롤링할 것이므로 Session을 사용합니다.\n",
    "    session = requests.Session()\n",
    "    \n",
    "    # scrape_list_page() 함수를 호출해서 제너레이터를 추출\n",
    "    response = session.get(\"http://www.hanbit.co.kr/store/books/new_book_list.html\")\n",
    "    \n",
    "    urls = scrape_list_page(response)\n",
    "    \n",
    "    # 제너레이터는 list처럼 사용할 수 있습니다.\n",
    "    for url in urls:\n",
    "        print(url)"
   ]
  },
  {
   "cell_type": "code",
   "execution_count": 3,
   "id": "cffa1938",
   "metadata": {},
   "outputs": [],
   "source": [
    "def scrape_list_page(response):\n",
    "    root = lxml.html.fromstring(response.content)\n",
    "    root.make_links_absolute(response.url)\n",
    "    for a in root.cssselect(\".view_box .book_tit a\"):\n",
    "        url = a.get(\"href\")\n",
    "        \n",
    "        # yield 구문으로 제너레이터의 요소 반환\n",
    "        yield url"
   ]
  },
  {
   "cell_type": "code",
   "execution_count": 4,
   "id": "bbda2b5f",
   "metadata": {},
   "outputs": [
    {
     "name": "stdout",
     "output_type": "stream",
     "text": [
      "https://www.hanbit.co.kr/store/books/look.php?p_code=B4354575770\n",
      "https://www.hanbit.co.kr/store/books/look.php?p_code=B9597680767\n",
      "https://www.hanbit.co.kr/store/books/look.php?p_code=B7718726335\n",
      "https://www.hanbit.co.kr/store/books/look.php?p_code=B8676970090\n",
      "https://www.hanbit.co.kr/store/books/look.php?p_code=B2119731751\n",
      "https://www.hanbit.co.kr/store/books/look.php?p_code=B5067324775\n",
      "https://www.hanbit.co.kr/store/books/look.php?p_code=B2247981475\n",
      "https://www.hanbit.co.kr/store/books/look.php?p_code=B9503831552\n",
      "https://www.hanbit.co.kr/store/books/look.php?p_code=B2835837863\n",
      "https://www.hanbit.co.kr/store/books/look.php?p_code=B3501358503\n",
      "https://www.hanbit.co.kr/store/books/look.php?p_code=B9071173699\n",
      "https://www.hanbit.co.kr/store/books/look.php?p_code=B9102351881\n",
      "https://www.hanbit.co.kr/store/books/look.php?p_code=B5825921855\n",
      "https://www.hanbit.co.kr/store/books/look.php?p_code=B3886303135\n",
      "https://www.hanbit.co.kr/store/books/look.php?p_code=B7422209817\n",
      "https://www.hanbit.co.kr/store/books/look.php?p_code=B1355665429\n",
      "https://www.hanbit.co.kr/store/books/look.php?p_code=B1681646737\n",
      "https://www.hanbit.co.kr/store/books/look.php?p_code=B9365371874\n",
      "https://www.hanbit.co.kr/store/books/look.php?p_code=B6562895528\n",
      "https://www.hanbit.co.kr/store/books/look.php?p_code=B6059097161\n"
     ]
    }
   ],
   "source": [
    "if __name__ == '__main__':\n",
    "    main()"
   ]
  }
 ],
 "metadata": {
  "kernelspec": {
   "display_name": "Python 3 (ipykernel)",
   "language": "python",
   "name": "python3"
  },
  "language_info": {
   "codemirror_mode": {
    "name": "ipython",
    "version": 3
   },
   "file_extension": ".py",
   "mimetype": "text/x-python",
   "name": "python",
   "nbconvert_exporter": "python",
   "pygments_lexer": "ipython3",
   "version": "3.7.2"
  }
 },
 "nbformat": 4,
 "nbformat_minor": 5
}
